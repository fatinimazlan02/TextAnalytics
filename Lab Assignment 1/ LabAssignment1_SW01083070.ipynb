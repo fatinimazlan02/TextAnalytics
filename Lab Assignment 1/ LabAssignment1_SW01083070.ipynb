{
 "cells": [
  {
   "cell_type": "code",
   "execution_count": 1,
   "id": "a8cba189",
   "metadata": {},
   "outputs": [
    {
     "name": "stdout",
     "output_type": "stream",
     "text": [
      "Scraping complete!\n"
     ]
    }
   ],
   "source": [
    "import re\n",
    "import json\n",
    "import requests\n",
    "import csv\n",
    "from datetime import datetime\n",
    "\n",
    "#extract shop ID and item ID from the URL\n",
    "url = 'https://shopee.com.my/AINAA-SERUM-CLEANSER-SCRUB-SUNSCREEN-MOISTURIZER-(-ORIGINAL-HQ-)2-i.30681866.4010906757?publish_id=&sp_atk=5118bce1-14b2-43fb-b67d-2a9789295917&xptdk=5118bce1-14b2-43fb-b67d-2a9789295917'\n",
    "match = re.search(r'i\\.(\\d+)\\.(\\d+)', url)\n",
    "if not match:\n",
    "    print(\"Invalid URL\")\n",
    "    exit()\n",
    "\n",
    "\n",
    "shop_id, item_id = match.group(1), match.group(2)\n",
    "\n",
    "#the desired number of pages to scrape\n",
    "pages = 5\n",
    "\n",
    "# Open CSV file for writing\n",
    "with open('shopeeReview.csv', 'w', newline='', encoding='utf-8') as csvfile:\n",
    "    fieldnames = ['Username', 'Date', 'Comment']\n",
    "    writer = csv.DictWriter(csvfile, fieldnames=fieldnames)\n",
    "    writer.writeheader()\n",
    "\n",
    "    # Loop through desired number of pages\n",
    "    for page in range(pages):\n",
    "        # Fetch ratings data from Shopee API\n",
    "        offset = page * 20  # Calculate offset based on page number\n",
    "        ratings_url = f'https://shopee.com.my/api/v2/item/get_ratings?filter=0&flag=1&itemid={item_id}&limit=20&offset={offset}&shopid={shop_id}&type=0'\n",
    "        data = requests.get(ratings_url).json()\n",
    "\n",
    "        # Extract and write ratings to CSV\n",
    "        for rating in data['data']['ratings']:\n",
    "            author_username = rating['author_username']\n",
    "            \n",
    "            timestamp = rating['mtime']\n",
    "            date = datetime.utcfromtimestamp(timestamp).strftime('%d-%m-%Y')  # Convert to desired format\n",
    "            \n",
    "            # Combine all lines of comment into one string\n",
    "            comment_lines = [line.strip() for line in rating['comment'].split('\\n')]\n",
    "            comment = ' '.join(comment_lines)\n",
    "            \n",
    "            # Write to CSV file\n",
    "            writer.writerow({'Username': author_username, 'Date': date, 'Comment': comment})\n",
    "\n",
    "print(\"Scraping complete!\")\n",
    "\n",
    "\n",
    "#Nurfatini Zahirah Binti Mazlan - SW01083070"
   ]
  },
  {
   "cell_type": "code",
   "execution_count": null,
   "id": "bf2cdb62",
   "metadata": {},
   "outputs": [],
   "source": []
  }
 ],
 "metadata": {
  "kernelspec": {
   "display_name": "Python 3 (ipykernel)",
   "language": "python",
   "name": "python3"
  },
  "language_info": {
   "codemirror_mode": {
    "name": "ipython",
    "version": 3
   },
   "file_extension": ".py",
   "mimetype": "text/x-python",
   "name": "python",
   "nbconvert_exporter": "python",
   "pygments_lexer": "ipython3",
   "version": "3.11.5"
  }
 },
 "nbformat": 4,
 "nbformat_minor": 5
}
